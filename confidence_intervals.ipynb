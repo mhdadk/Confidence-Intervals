{
 "cells": [
  {
   "cell_type": "markdown",
   "metadata": {},
   "source": [
    "# Confidence Intervals"
   ]
  },
  {
   "cell_type": "markdown",
   "metadata": {},
   "source": [
    "This tutorial demonstrates how to create confidence intervals for estimators.\n",
    "\n",
    "Suppose that there are two candidates, candidate A and candidate B, running for an election, and suppose that you want to determine the probability that candidate A will win. Suppose that a total of 100,000 people, also known as the population, can vote in this election. You could try and count the number of people in the population who will vote for candidate A, and then divide this by 100,000. However, this is not practical. Instead, you can select a small subset of the population, called a sample, and count how many of them will vote for candidate A and divide that by the sample size. Suppose that you select a sample of 1,000 people.\n",
    "\n",
    "Let $X_i$ be $1$ if the $i^{th}$ person in the sample will vote for candidate A, and let $X_i$ be 0 if the $i^{th}$ person in the sample will vote for candidate B, for $i = 1,2,...,1000$. Since the sample's voting choices are random, then $X_1,X_2,...,X_{1000}$ are all random variables. More precisely, they are **Bernoulli** random variables. For example, after picking a random sample of 1,000 people and asking each of them who they will vote for, the observed voting choices could be:\n",
    "\n",
    "$$\\{X_1 = 1,X_2 = 0,X_3 = 1,...,X_{1000} = 1\\}$$\n",
    "\n",
    "\n",
    "Suppose that you sample without replacement 1,000 people from the population, and let $X_i$  An estimator is any function of one or more random variables. In the context of sampling, an estimator computes a Given an estimator $\\hat{\\Theta}$"
   ]
  },
  {
   "cell_type": "code",
   "execution_count": null,
   "metadata": {},
   "outputs": [],
   "source": []
  }
 ],
 "metadata": {
  "kernelspec": {
   "display_name": "Python 3",
   "language": "python",
   "name": "python3"
  },
  "language_info": {
   "codemirror_mode": {
    "name": "ipython",
    "version": 3
   },
   "file_extension": ".py",
   "mimetype": "text/x-python",
   "name": "python",
   "nbconvert_exporter": "python",
   "pygments_lexer": "ipython3",
   "version": "3.7.7"
  }
 },
 "nbformat": 4,
 "nbformat_minor": 4
}
